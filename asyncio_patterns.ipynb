{
 "cells": [
  {
   "cell_type": "markdown",
   "metadata": {},
   "source": [
    "# Developing with AsyncIO, design patterns\n",
    "\n",
    "While heavy working with web APIs, databases, disc IO (espessialy network disks), performance issues startig to be more sensitive. Since few years AsyncIO is getting increasingly more popular. It switches context on I/O bound tasks in the single thread. It means that your process will be doing another things while waiting for I/O, thus improves performance of IO bound tasks. \n",
    "Because python has Global Interpreter Lock (GIL), code is executed one single thread at a time. So, theoreticaly AsyncIO is at least as fast as multythreading.  \n",
    "  \n",
    "I was wondering about asyncio design choices. Here is a short tutorial on 3 paterns that i have found. ( Thanks Mycola Novik)"
   ]
  },
  {
   "cell_type": "markdown",
   "metadata": {},
   "source": [
    "Disclaimer: Performance of different tasks with theese patterns will change."
   ]
  },
  {
   "cell_type": "markdown",
   "metadata": {},
   "source": [
    "Execution of the sync code is separate thread pool or process pool. \n",
    "- no way to kill a thread if task hangs up\n",
    "- C extentions can consume a lot of memory, some versions of Docker can behave unpredictable\n",
    "- Convenient \n",
    "\n",
    "ProcessPoolExecutors works as well, but pickling \n",
    "- Easy to terminate\n",
    "- Consumes a lot of memory \n",
    "- Create processeses asap - due to FORK method of creating processes ;)"
   ]
  },
  {
   "cell_type": "code",
   "execution_count": null,
   "metadata": {},
   "outputs": [],
   "source": [
    "import asyncio \n",
    "loop = asyncio.get_event_loop()\n",
    "executor = ThreadPoolExecutor(max_workers = 4)\n",
    "async def test_ex():\n",
    "    string=\"conn\"\n",
    "    in_exec = await loop.run_in_executor(executor, function, arguments)\n",
    "    \n",
    "loop.run_untill_complete(test_ex())"
   ]
  },
  {
   "cell_type": "markdown",
   "metadata": {},
   "source": [
    "Execution of the async code in separate thread? ( inside sync code)\n",
    "\n",
    "Usecases:   \n",
    "- scrapping, \n",
    "- loading files/network io \n",
    "\n",
    "using (small) coroutines inside sync code == simetimes slows down the code!   be careful!   "
   ]
  },
  {
   "cell_type": "code",
   "execution_count": null,
   "metadata": {},
   "outputs": [],
   "source": [
    "import aiohttp\n",
    "\n",
    "async def fetch( session, url, loop):\n",
    "    async with session.get(url) as response :\n",
    "        data= await response.text()\n",
    "        \n",
    "def collect data(url_list):\n",
    "    loop=asyncio.get_event_loop()\n",
    "    \n",
    "    session = aiohttp.get_event_loop()\n",
    "    coros=[fetch(session, u, loop)] for u in url list]\n",
    "    \n",
    "    data = loop.run_untill_complete(asyncio.gather(*coros, loop=loop))\n",
    "    loop.run_untill_complete(session.close())\n",
    "    loop.close()\n",
    "    return data\n",
    "\n",
    "def main():\n",
    "    url_list= []\n",
    "    data=collect_data(url_list)\n",
    "    process(data)\n"
   ]
  },
  {
   "cell_type": "markdown",
   "metadata": {},
   "source": [
    "Application may delegate IO heavy tasks to dedicated lop in separate thread"
   ]
  },
  {
   "cell_type": "code",
   "execution_count": null,
   "metadata": {},
   "outputs": [],
   "source": [
    "import asyncio, functools\n",
    "from threading import Thread, Event\n",
    "\n",
    "class AioThread(Thread):\n",
    "    def __init__(self,*args, **kwargs):\n",
    "        super().__init__(*args, **kwargs)\n",
    "        self.loop=None\n",
    "        self.event=Event()\n",
    "        \n",
    "    def run(self):\n",
    "        self.loop = asyncio.new_event_loop()\n",
    "        asyncio.set_event_loop(self._loop)\n",
    "        self.loop.call_soon(self.event.set)\n",
    "        self.loop.run_forever()\n",
    "        \n",
    "    def add_task(self, coro):\n",
    "        fut=asyncio.run_couroutine_threadsafe(core, loop=self.loop)\n",
    "        return fut\n",
    "    \n",
    "    def finalize(self, timeout=None):\n",
    "        self._loop.call_soon_threadsafe(self._loop.stop)\n",
    "        self.join(timeout=timeout)\n",
    "        "
   ]
  },
  {
   "cell_type": "markdown",
   "metadata": {},
   "source": [
    "!!!  ? check if loop have been started  \n",
    "finalize thread properly "
   ]
  },
  {
   "cell_type": "code",
   "execution_count": null,
   "metadata": {},
   "outputs": [],
   "source": [
    "def main():\n",
    "    aiothread=AioThread()\n",
    "    aiothread.start()\n",
    "    aiothread.event.wait()\n",
    "    \n",
    "    loop=aiothread.loop\n",
    "    coro=asyncio.sleep(1,loop=loop)\n",
    "    future= aiothread.add_task(coro)\n",
    "    try:\n",
    "        result = future.result(timeout)\n",
    "    except asyncio.TimeoutError:\n",
    "        print ('Coro is too long, cancelling')\n",
    "        future.cancel()   # run in the main thread --- \n",
    "    except Exeption as exc:\n",
    "        print ( \"Coro rised exeption\", exc)"
   ]
  }
 ],
 "metadata": {
  "kernelspec": {
   "display_name": "Python 3",
   "language": "python",
   "name": "python3"
  },
  "language_info": {
   "codemirror_mode": {
    "name": "ipython",
    "version": 3
   },
   "file_extension": ".py",
   "mimetype": "text/x-python",
   "name": "python",
   "nbconvert_exporter": "python",
   "pygments_lexer": "ipython3",
   "version": "3.6.9"
  }
 },
 "nbformat": 4,
 "nbformat_minor": 1
}
